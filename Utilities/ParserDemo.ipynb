{
 "cells": [
  {
   "cell_type": "markdown",
   "metadata": {},
   "source": [
    "# Parser Functionality Demonstration\n",
    "\n",
    "This notebook provides an overview over the functionality of der `README` file parser. The `README` file from UMET was chosen as an example. \n",
    "\n",
    "Based on the original `README` file format and the actually provided files from the different institutes, some adjustments are proposed to the file structure. These adjustments are meant to unify the content, as well as simplify the parsing of the `README` file.\n",
    "\n",
    "For now the focus is set to the TGA experiments, to provide a base line for the discussion."
   ]
  },
  {
   "cell_type": "code",
   "execution_count": 1,
   "metadata": {},
   "outputs": [
    {
     "name": "stdout",
     "output_type": "stream",
     "text": [
      "D:\\Git\\MaCFP_matl_MyFork\\matl-db\\Utilities\n"
     ]
    },
    {
     "data": {
      "text/plain": [
       "<module 'basic_functions' from '..\\\\Utilities\\\\basic_functions.py'>"
      ]
     },
     "execution_count": 1,
     "metadata": {},
     "output_type": "execute_result"
    }
   ],
   "source": [
    "import os\n",
    "import sys\n",
    "import importlib\n",
    "import copy\n",
    "import pickle\n",
    "\n",
    "import pandas as pd\n",
    "import matplotlib.pyplot as plt\n",
    "\n",
    "\n",
    "# Get current working directory.\n",
    "cwd = os.getcwd()\n",
    "print(cwd)\n",
    "\n",
    "# # Absolute path to MaCFP matl repository,\n",
    "# # e.g.: \"D:\\Git\\MaCFP_matl_MyFork\\matl-db\"\n",
    "# mafp_matl_root = os.path.join(cwd, \"..\")\n",
    "\n",
    "# Build relative path to MaCFP matl repository.\n",
    "mafp_matl_root = os.path.join(\"..\")\n",
    "\n",
    "# Add path to where Python looks for modules to import..\n",
    "base_func_script = os.path.join(mafp_matl_root, \"Utilities\")\n",
    "sys.path.insert(1, base_func_script)\n",
    "\n",
    "# Import base_functions script.\n",
    "import basic_functions as base_f\n",
    "# Re-import base_functions script \n",
    "# (necessary for when the script changes \n",
    "# during development of the functionality).\n",
    "importlib.reload(base_f)"
   ]
  },
  {
   "cell_type": "code",
   "execution_count": null,
   "metadata": {},
   "outputs": [],
   "source": []
  },
  {
   "cell_type": "markdown",
   "metadata": {},
   "source": [
    "## General Information\n",
    "\n",
    "Set up some general information for functionality utilised within this notebook."
   ]
  },
  {
   "cell_type": "code",
   "execution_count": 2,
   "metadata": {},
   "outputs": [],
   "source": [
    "# General info for this notebook.\n",
    "\n",
    "\n",
    "# Get base structure of TGA experiment description.\n",
    "tga_base = base_f.experiment_template[\"TGA_base\"]\n",
    "\n",
    "\n",
    "# Check results.\n",
    "# tga_base"
   ]
  },
  {
   "cell_type": "code",
   "execution_count": null,
   "metadata": {},
   "outputs": [],
   "source": []
  },
  {
   "cell_type": "markdown",
   "metadata": {},
   "source": [
    "## Read the README File"
   ]
  },
  {
   "cell_type": "code",
   "execution_count": 3,
   "metadata": {},
   "outputs": [],
   "source": [
    "# Path to the PMMA data.\n",
    "pmma_path_elements = [\"Non-charring\", \"PMMA\"]\n",
    "pmma_path = os.path.join(pmma_path_elements[0],\n",
    "                         pmma_path_elements[1])\n",
    "\n",
    "# Define the path to the desired file.\n",
    "umet_path = os.path.join(mafp_matl_root,\n",
    "                         pmma_path, \n",
    "                         \"UMET\")\n",
    "umet_readme = os.path.join(umet_path, 'README.md')\n",
    "\n",
    "# Read the file as list of strings (lines).\n",
    "with open(umet_readme, encoding='utf8') as readme_file:\n",
    "    readme_lines = [line.rstrip() for line in readme_file]\n",
    "    \n",
    "\n",
    "# Check results.\n",
    "# readme_lines"
   ]
  },
  {
   "cell_type": "code",
   "execution_count": null,
   "metadata": {},
   "outputs": [],
   "source": []
  },
  {
   "cell_type": "markdown",
   "metadata": {},
   "source": [
    "## Get the Institute Name and Label\n",
    "\n",
    "From the text, extract the title that contains the institute name and label."
   ]
  },
  {
   "cell_type": "code",
   "execution_count": 4,
   "metadata": {},
   "outputs": [
    {
     "data": {
      "text/plain": [
       "['UMET', 'University of Lille - ENSCL - Unité Matériaux et Transformations']"
      ]
     },
     "execution_count": 4,
     "metadata": {},
     "output_type": "execute_result"
    }
   ],
   "source": [
    "institute_info = base_f.get_institute(readme_lines)\n",
    "institute_info"
   ]
  },
  {
   "cell_type": "code",
   "execution_count": null,
   "metadata": {},
   "outputs": [],
   "source": []
  },
  {
   "cell_type": "markdown",
   "metadata": {},
   "source": [
    "## Get Experiment Information\n",
    "\n",
    "Define an experiment to extract its information from the text."
   ]
  },
  {
   "cell_type": "code",
   "execution_count": 5,
   "metadata": {},
   "outputs": [
    {
     "data": {
      "text/plain": [
       "['### Experimental Conditions, TGA',\n",
       " '* Heating Rates: 1, 2, 5, 10, 20, 50, and 100 K/min',\n",
       " '* Temperature program',\n",
       " '  - Initial Temperature: 313.15 K',\n",
       " '  - Initial Isotherm: None',\n",
       " '  - Maximum Temperature: 1273.15 K',\n",
       " '  - Final Isotherm: None',\n",
       " '* Sample mass: 3.93 – 5.98 mg',\n",
       " '* Sample geometry: powdered',\n",
       " '* Calibration type: Temperature calibration was performed every 6 months using a set of 5 reference materials with melting temperatures between 156.6 - 660 C',\n",
       " '* Crucible',\n",
       " '  - Type: Al2O3',\n",
       " '  - Volume: 85 µL',\n",
       " '  - Diameter: None',\n",
       " '  - Mass: None',\n",
       " '  - Lid: None',\n",
       " '  - Note: None',\n",
       " '* Carrier Gas',\n",
       " '  - Type: Nitrogen',\n",
       " '  - Flow rate: 40 ml/min',\n",
       " '  - Note: Nitrogen (Vacuuming and filling according to the desired atmosphere)',\n",
       " '* Instrument',\n",
       " '  - Type: Netzsch TG 209 Libra',\n",
       " '  - Note: None',\n",
       " '###### Test Condition Summary',\n",
       " '| Test Label | Heating Rate (K/min) | Initial Sample Mass (mg) | Oxygen Concentration (vol %) | File Name |',\n",
       " '|:----------:|:--------------------:|:------------------------:|:------------------------------:|:---------:|',\n",
       " '| UMET\\\\_TGA\\\\_N2\\\\_1 |   1 | 4.336 | 0 | UMET\\\\_TGA\\\\_N2\\\\_1K\\\\_1 |',\n",
       " '| UMET\\\\_TGA\\\\_N2\\\\_2 |   2 | 4.845 | 0 | UMET\\\\_TGA\\\\_N2\\\\_2K\\\\_1 |',\n",
       " '| UMET\\\\_TGA\\\\_N2\\\\_3 |   5 | 4.093 | 0 | UMET\\\\_TGA\\\\_N2\\\\_5K\\\\_1 |',\n",
       " '| UMET\\\\_TGA\\\\_N2\\\\_4 |  10 | 5.339 | 0 | UMET\\\\_TGA\\\\_N2\\\\_10K\\\\_1 |',\n",
       " '| UMET\\\\_TGA\\\\_N2\\\\_5 |  20 | 3.929 | 0 | UMET\\\\_TGA\\\\_N2\\\\_20K\\\\_1 |',\n",
       " '| UMET\\\\_TGA\\\\_N2\\\\_6 |  50 | 5.980 | 0 | UMET\\\\_TGA\\\\_N2\\\\_50K\\\\_1 |',\n",
       " '| UMET\\\\_TGA\\\\_N2\\\\_7 | 100 | 5.364 | 0 | UMET\\\\_TGA\\\\_N2\\\\_100K\\\\_1 |']"
      ]
     },
     "execution_count": 5,
     "metadata": {},
     "output_type": "execute_result"
    }
   ],
   "source": [
    "# Read experiment description.\n",
    "experiment_lines = base_f.read_experiment_lines(readme_lines)\n",
    "\n",
    "# Check results.\n",
    "experiment_lines"
   ]
  },
  {
   "cell_type": "code",
   "execution_count": null,
   "metadata": {},
   "outputs": [],
   "source": []
  },
  {
   "cell_type": "markdown",
   "metadata": {},
   "source": [
    "## Read Test Condition Table\n",
    "\n",
    "From the experiment lines find and extract the markdown table that summarises the experimental conditions."
   ]
  },
  {
   "cell_type": "code",
   "execution_count": 6,
   "metadata": {},
   "outputs": [
    {
     "data": {
      "text/html": [
       "<div>\n",
       "<style scoped>\n",
       "    .dataframe tbody tr th:only-of-type {\n",
       "        vertical-align: middle;\n",
       "    }\n",
       "\n",
       "    .dataframe tbody tr th {\n",
       "        vertical-align: top;\n",
       "    }\n",
       "\n",
       "    .dataframe thead th {\n",
       "        text-align: right;\n",
       "    }\n",
       "</style>\n",
       "<table border=\"1\" class=\"dataframe\">\n",
       "  <thead>\n",
       "    <tr style=\"text-align: right;\">\n",
       "      <th></th>\n",
       "      <th>Test Label</th>\n",
       "      <th>Heating Rate (K/min)</th>\n",
       "      <th>Initial Sample Mass (mg)</th>\n",
       "      <th>Oxygen Concentration (vol %)</th>\n",
       "      <th>File Name</th>\n",
       "    </tr>\n",
       "  </thead>\n",
       "  <tbody>\n",
       "    <tr>\n",
       "      <th>0</th>\n",
       "      <td>UMET_TGA_N2_1</td>\n",
       "      <td>1.0</td>\n",
       "      <td>4.336</td>\n",
       "      <td>0.0</td>\n",
       "      <td>UMET_TGA_N2_1K_1</td>\n",
       "    </tr>\n",
       "    <tr>\n",
       "      <th>1</th>\n",
       "      <td>UMET_TGA_N2_2</td>\n",
       "      <td>2.0</td>\n",
       "      <td>4.845</td>\n",
       "      <td>0.0</td>\n",
       "      <td>UMET_TGA_N2_2K_1</td>\n",
       "    </tr>\n",
       "    <tr>\n",
       "      <th>2</th>\n",
       "      <td>UMET_TGA_N2_3</td>\n",
       "      <td>5.0</td>\n",
       "      <td>4.093</td>\n",
       "      <td>0.0</td>\n",
       "      <td>UMET_TGA_N2_5K_1</td>\n",
       "    </tr>\n",
       "    <tr>\n",
       "      <th>3</th>\n",
       "      <td>UMET_TGA_N2_4</td>\n",
       "      <td>10.0</td>\n",
       "      <td>5.339</td>\n",
       "      <td>0.0</td>\n",
       "      <td>UMET_TGA_N2_10K_1</td>\n",
       "    </tr>\n",
       "    <tr>\n",
       "      <th>4</th>\n",
       "      <td>UMET_TGA_N2_5</td>\n",
       "      <td>20.0</td>\n",
       "      <td>3.929</td>\n",
       "      <td>0.0</td>\n",
       "      <td>UMET_TGA_N2_20K_1</td>\n",
       "    </tr>\n",
       "    <tr>\n",
       "      <th>5</th>\n",
       "      <td>UMET_TGA_N2_6</td>\n",
       "      <td>50.0</td>\n",
       "      <td>5.980</td>\n",
       "      <td>0.0</td>\n",
       "      <td>UMET_TGA_N2_50K_1</td>\n",
       "    </tr>\n",
       "    <tr>\n",
       "      <th>6</th>\n",
       "      <td>UMET_TGA_N2_7</td>\n",
       "      <td>100.0</td>\n",
       "      <td>5.364</td>\n",
       "      <td>0.0</td>\n",
       "      <td>UMET_TGA_N2_100K_1</td>\n",
       "    </tr>\n",
       "  </tbody>\n",
       "</table>\n",
       "</div>"
      ],
      "text/plain": [
       "      Test Label  Heating Rate (K/min)  Initial Sample Mass (mg)  \\\n",
       "0  UMET_TGA_N2_1                   1.0                     4.336   \n",
       "1  UMET_TGA_N2_2                   2.0                     4.845   \n",
       "2  UMET_TGA_N2_3                   5.0                     4.093   \n",
       "3  UMET_TGA_N2_4                  10.0                     5.339   \n",
       "4  UMET_TGA_N2_5                  20.0                     3.929   \n",
       "5  UMET_TGA_N2_6                  50.0                     5.980   \n",
       "6  UMET_TGA_N2_7                 100.0                     5.364   \n",
       "\n",
       "   Oxygen Concentration (vol %)           File Name  \n",
       "0                           0.0    UMET_TGA_N2_1K_1  \n",
       "1                           0.0    UMET_TGA_N2_2K_1  \n",
       "2                           0.0    UMET_TGA_N2_5K_1  \n",
       "3                           0.0   UMET_TGA_N2_10K_1  \n",
       "4                           0.0   UMET_TGA_N2_20K_1  \n",
       "5                           0.0   UMET_TGA_N2_50K_1  \n",
       "6                           0.0  UMET_TGA_N2_100K_1  "
      ]
     },
     "execution_count": 6,
     "metadata": {},
     "output_type": "execute_result"
    }
   ],
   "source": [
    "# Read table with experiment summary.\n",
    "table_df = base_f.read_test_condition_table(experiment_lines)\n",
    "\n",
    "# Check results.\n",
    "table_df"
   ]
  },
  {
   "cell_type": "code",
   "execution_count": null,
   "metadata": {},
   "outputs": [],
   "source": []
  },
  {
   "cell_type": "markdown",
   "metadata": {},
   "source": [
    "## Read Experiment Description\n",
    "\n",
    "Now that the table information is extracted, it can be used to process the README and store the information of the individual experiments in a dictionary."
   ]
  },
  {
   "cell_type": "code",
   "execution_count": 7,
   "metadata": {},
   "outputs": [],
   "source": [
    "institute_name_info = institute_info\n",
    "\n",
    "experiment_type = \"TGA\"\n",
    "experiment_info = {experiment_type: dict()}\n",
    "institute_label = institute_info[0]\n",
    "repetition_info = {institute_label: dict()}\n",
    "\n",
    "for test_label in table_df[\"Test Label\"][:]:\n",
    "    \n",
    "    # Remove unnecessary spaces.\n",
    "    test_label = test_label.replace(\" \",\"\")\n",
    "    \n",
    "    # Get line number of test.\n",
    "    test_idx = table_df[table_df['Test Label'] == test_label].index[0]\n",
    "    \n",
    "    # Initialise experiment dictionary and fill in a copy of \n",
    "    # the experiment description template.\n",
    "    test_info = copy.deepcopy(tga_base)\n",
    "    \n",
    "    \n",
    "    # Set institute name and label.\n",
    "    test_info['laboratory']['label'] = institute_name_info[0]\n",
    "    test_info['laboratory']['name'] = institute_name_info[1]\n",
    "    \n",
    "    \n",
    "    # Get file name\n",
    "    data_file_name = table_df['File Name'][test_idx] + \".csv\"\n",
    "    # Build data file path.\n",
    "    data_file_path = os.path.join(pmma_path, \n",
    "                                  institute_name_info[0],\n",
    "                                  data_file_name)\n",
    "    # Store relative data file path.\n",
    "    test_info['path'] = data_file_path\n",
    "    \n",
    "    \n",
    "    # Set experiment description items from README.\n",
    "    base_f.readme_items(md_lines=experiment_lines, \n",
    "                        items=test_info)\n",
    "#     readme_items(md_lines=experiment_lines, \n",
    "#                  items=test_info)\n",
    "    \n",
    "    # Set heating rate.\n",
    "    new_val = table_df['Heating Rate (K/min)'][test_idx]\n",
    "    new_unit = \"K/min\"\n",
    "    test_info[\"heating_rate\"] = {'value': new_val,\n",
    "                                 'unit': new_unit}\n",
    "    \n",
    "    \n",
    "    # Set initial sample mass.\n",
    "    new_val = table_df['Initial Sample Mass (mg)'][test_idx]\n",
    "    new_unit = \"mg\"\n",
    "    test_info[\"sample_mass\"] = {'value': new_val,\n",
    "                                'unit': new_unit}\n",
    "    \n",
    "    \n",
    "    repetition_info[institute_label][test_label] = test_info\n",
    "#     print(data_file_path)\n",
    "    \n",
    "    \n",
    "experiment_info[experiment_type] = repetition_info"
   ]
  },
  {
   "cell_type": "code",
   "execution_count": 8,
   "metadata": {},
   "outputs": [
    {
     "data": {
      "text/plain": [
       "{'value': 4.336, 'unit': 'mg'}"
      ]
     },
     "execution_count": 8,
     "metadata": {},
     "output_type": "execute_result"
    }
   ],
   "source": [
    "# Check result.\n",
    "experiment_info[\"TGA\"][\"UMET\"][\"UMET_TGA_N2_1\"][\"sample_mass\"]"
   ]
  },
  {
   "cell_type": "code",
   "execution_count": null,
   "metadata": {},
   "outputs": [],
   "source": []
  },
  {
   "cell_type": "markdown",
   "metadata": {},
   "source": [
    "# Plot Some Data"
   ]
  },
  {
   "cell_type": "code",
   "execution_count": 9,
   "metadata": {},
   "outputs": [
    {
     "data": {
      "text/html": [
       "<div>\n",
       "<style scoped>\n",
       "    .dataframe tbody tr th:only-of-type {\n",
       "        vertical-align: middle;\n",
       "    }\n",
       "\n",
       "    .dataframe tbody tr th {\n",
       "        vertical-align: top;\n",
       "    }\n",
       "\n",
       "    .dataframe thead th {\n",
       "        text-align: right;\n",
       "    }\n",
       "</style>\n",
       "<table border=\"1\" class=\"dataframe\">\n",
       "  <thead>\n",
       "    <tr style=\"text-align: right;\">\n",
       "      <th></th>\n",
       "      <th>Time</th>\n",
       "      <th>Temperature</th>\n",
       "      <th>Mass</th>\n",
       "    </tr>\n",
       "  </thead>\n",
       "  <tbody>\n",
       "    <tr>\n",
       "      <th>0</th>\n",
       "      <td>0.0</td>\n",
       "      <td>313.115</td>\n",
       "      <td>4.3361</td>\n",
       "    </tr>\n",
       "    <tr>\n",
       "      <th>1</th>\n",
       "      <td>0.5</td>\n",
       "      <td>313.615</td>\n",
       "      <td>4.3361</td>\n",
       "    </tr>\n",
       "    <tr>\n",
       "      <th>2</th>\n",
       "      <td>1.0</td>\n",
       "      <td>314.115</td>\n",
       "      <td>4.3361</td>\n",
       "    </tr>\n",
       "    <tr>\n",
       "      <th>3</th>\n",
       "      <td>1.5</td>\n",
       "      <td>314.615</td>\n",
       "      <td>4.3361</td>\n",
       "    </tr>\n",
       "    <tr>\n",
       "      <th>4</th>\n",
       "      <td>2.0</td>\n",
       "      <td>315.115</td>\n",
       "      <td>4.3361</td>\n",
       "    </tr>\n",
       "  </tbody>\n",
       "</table>\n",
       "</div>"
      ],
      "text/plain": [
       "   Time  Temperature    Mass\n",
       "0   0.0      313.115  4.3361\n",
       "1   0.5      313.615  4.3361\n",
       "2   1.0      314.115  4.3361\n",
       "3   1.5      314.615  4.3361\n",
       "4   2.0      315.115  4.3361"
      ]
     },
     "execution_count": 9,
     "metadata": {},
     "output_type": "execute_result"
    }
   ],
   "source": [
    "# Read experimental data.\n",
    "tga_1k_file = experiment_info[\"TGA\"][\"UMET\"][\"UMET_TGA_N2_1\"][\"path\"]\n",
    "tga_1k_path = os.path.join(mafp_matl_root, \n",
    "                           tga_1k_file)\n",
    "\n",
    "tga_1k_data = pd.read_csv(tga_1k_path,\n",
    "                          skiprows=[1])\n",
    "\n",
    "# Check result.\n",
    "tga_1k_data.head()"
   ]
  },
  {
   "cell_type": "code",
   "execution_count": 10,
   "metadata": {},
   "outputs": [
    {
     "data": {
      "text/html": [
       "<div>\n",
       "<style scoped>\n",
       "    .dataframe tbody tr th:only-of-type {\n",
       "        vertical-align: middle;\n",
       "    }\n",
       "\n",
       "    .dataframe tbody tr th {\n",
       "        vertical-align: top;\n",
       "    }\n",
       "\n",
       "    .dataframe thead th {\n",
       "        text-align: right;\n",
       "    }\n",
       "</style>\n",
       "<table border=\"1\" class=\"dataframe\">\n",
       "  <thead>\n",
       "    <tr style=\"text-align: right;\">\n",
       "      <th></th>\n",
       "      <th>Time</th>\n",
       "      <th>Temperature</th>\n",
       "      <th>Mass</th>\n",
       "    </tr>\n",
       "  </thead>\n",
       "  <tbody>\n",
       "    <tr>\n",
       "      <th>729</th>\n",
       "      <td>36.45</td>\n",
       "      <td>677.615</td>\n",
       "      <td>0.061140</td>\n",
       "    </tr>\n",
       "    <tr>\n",
       "      <th>170</th>\n",
       "      <td>8.50</td>\n",
       "      <td>398.115</td>\n",
       "      <td>5.316099</td>\n",
       "    </tr>\n",
       "    <tr>\n",
       "      <th>434</th>\n",
       "      <td>21.70</td>\n",
       "      <td>530.115</td>\n",
       "      <td>5.137593</td>\n",
       "    </tr>\n",
       "    <tr>\n",
       "      <th>494</th>\n",
       "      <td>24.70</td>\n",
       "      <td>560.115</td>\n",
       "      <td>5.080156</td>\n",
       "    </tr>\n",
       "    <tr>\n",
       "      <th>530</th>\n",
       "      <td>26.50</td>\n",
       "      <td>578.115</td>\n",
       "      <td>4.989912</td>\n",
       "    </tr>\n",
       "  </tbody>\n",
       "</table>\n",
       "</div>"
      ],
      "text/plain": [
       "      Time  Temperature      Mass\n",
       "729  36.45      677.615  0.061140\n",
       "170   8.50      398.115  5.316099\n",
       "434  21.70      530.115  5.137593\n",
       "494  24.70      560.115  5.080156\n",
       "530  26.50      578.115  4.989912"
      ]
     },
     "execution_count": 10,
     "metadata": {},
     "output_type": "execute_result"
    }
   ],
   "source": [
    "# Read experimental data.\n",
    "tga_10k_file = experiment_info[\"TGA\"][\"UMET\"][\"UMET_TGA_N2_4\"][\"path\"]\n",
    "tga_10k_path = os.path.join(mafp_matl_root, \n",
    "                           tga_10k_file)\n",
    "\n",
    "tga_10k_data = pd.read_csv(tga_10k_path,\n",
    "                          skiprows=[1])\n",
    "\n",
    "# Check result.\n",
    "tga_10k_data.sample(5)"
   ]
  },
  {
   "cell_type": "code",
   "execution_count": 11,
   "metadata": {},
   "outputs": [
    {
     "data": {
      "image/png": "[encoded data removed]",
      "text/plain": [
       "<Figure size 432x288 with 1 Axes>"
      ]
     },
     "metadata": {
      "needs_background": "light"
     },
     "output_type": "display_data"
    }
   ],
   "source": [
    "# Plot residual mass for UMET 1 K/min TGA test.\n",
    "plt.plot(tga_1k_data.Temperature, \n",
    "         tga_1k_data.Mass, \n",
    "         label=\"1 K/min\")\n",
    "\n",
    "# Plot residual mass for UMET 10 K/min TGA test.\n",
    "plt.plot(tga_10k_data.Temperature, \n",
    "         tga_10k_data.Mass, \n",
    "         label=\"10 K/min\")\n",
    "\n",
    "\n",
    "plt.title(\"TGA, Nitrogen, UMET\")\n",
    "plt.xlabel(\"Temperature, in °C\")\n",
    "plt.ylabel(\"Sample Mass, in mg\")\n",
    "\n",
    "plt.legend()\n",
    "plt.grid()"
   ]
  },
  {
   "cell_type": "code",
   "execution_count": null,
   "metadata": {},
   "outputs": [],
   "source": []
  },
  {
   "cell_type": "code",
   "execution_count": null,
   "metadata": {},
   "outputs": [],
   "source": []
  },
  {
   "cell_type": "code",
   "execution_count": null,
   "metadata": {},
   "outputs": [],
   "source": []
  },
  {
   "cell_type": "code",
   "execution_count": null,
   "metadata": {},
   "outputs": [],
   "source": []
  },
  {
   "cell_type": "code",
   "execution_count": null,
   "metadata": {},
   "outputs": [],
   "source": []
  },
  {
   "cell_type": "code",
   "execution_count": null,
   "metadata": {},
   "outputs": [],
   "source": []
  }
 ],
 "metadata": {
  "kernelspec": {
   "display_name": "Python 3",
   "language": "python",
   "name": "python3"
  },
  "language_info": {
   "codemirror_mode": {
    "name": "ipython",
    "version": 3
   },
   "file_extension": ".py",
   "mimetype": "text/x-python",
   "name": "python",
   "nbconvert_exporter": "python",
   "pygments_lexer": "ipython3",
   "version": "3.6.9"
  }
 },
 "nbformat": 4,
 "nbformat_minor": 4
}

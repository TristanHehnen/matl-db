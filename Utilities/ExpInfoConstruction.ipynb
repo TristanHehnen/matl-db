{
 "cells": [
  {
   "cell_type": "markdown",
   "metadata": {},
   "source": [
    "# Construct the `experiment_info` Dictionary\n",
    "\n",
    "This notebook is meant for developers that would like to contribute to the utilities of the repository. Furthermore, it provides means for the maintainers of the repo to easily update the dictionary when new data comes in. \n",
    "\n",
    "It details how the README files are processed and a dictionary is created that contains the information of the different experiments. The dictionary is written to a text file automatically."
   ]
  },
  {
   "cell_type": "code",
   "execution_count": null,
   "metadata": {},
   "outputs": [],
   "source": [
    "import os\n",
    "import sys\n",
    "import importlib\n",
    "\n",
    "import pandas as pd\n",
    "\n",
    "\n",
    "# Absolute path to MaCFP matl repository:\n",
    "# \"D:\\Git\\MaCFP_matl_MyFork\\matl-db\"\n",
    "mafp_matl_root = os.path.join(\"d:/\", \"Git\", \"MaCFP_matl_MyFork\", \"matl-db\")\n",
    "# mafp_matl_root = os.path.join(\"d:/\", \"Git\", \"MaCFP_matl\", \"matl-db\")\n",
    "\n",
    "\n",
    "# Add path to where Python looks for modules to import..\n",
    "base_func_script = os.path.join(mafp_matl_root, \"Utilities\")\n",
    "sys.path.insert(1, base_func_script)\n",
    "\n",
    "# Import base_functions script.\n",
    "import basic_functions as base_f\n",
    "# Re-import base_functions script.\n",
    "importlib.reload(base_f)"
   ]
  },
  {
   "cell_type": "code",
   "execution_count": null,
   "metadata": {},
   "outputs": [],
   "source": [
    "# Import general information needed for this notebook.\n",
    "\n",
    "# Path to the PMMA data.\n",
    "pmma_path = os.path.join(mafp_matl_root, \"Non-charring\", \"PMMA\")\n",
    "umet_path = os.path.join(pmma_path, \"UMET\")"
   ]
  },
  {
   "cell_type": "code",
   "execution_count": null,
   "metadata": {},
   "outputs": [],
   "source": []
  },
  {
   "cell_type": "markdown",
   "metadata": {},
   "source": [
    "## Get All README Files Containing TGA Data"
   ]
  },
  {
   "cell_type": "markdown",
   "metadata": {},
   "source": [
    "First all institute labels are taken from the directory labels."
   ]
  },
  {
   "cell_type": "code",
   "execution_count": null,
   "metadata": {},
   "outputs": [],
   "source": [
    "# Get all institute labels from dictionary names.\n",
    "institutes = list()\n",
    "institutes = [ f.name for f in os.scandir(pmma_path) if f.is_dir() ]\n",
    "\n",
    "# Check results, remove \";\".\n",
    "institutes;"
   ]
  },
  {
   "cell_type": "markdown",
   "metadata": {},
   "source": [
    "Then all README files are read from the institute directories. Each file is checked it it contains information on TGA experiments. "
   ]
  },
  {
   "cell_type": "code",
   "execution_count": null,
   "metadata": {},
   "outputs": [],
   "source": [
    "# Get all README files that contain information on the TGA experiments.\n",
    "tga_readme_files = base_f.get_exp_readme_files(institutes=institutes,\n",
    "                                               base_path=pmma_path, \n",
    "                                               experiment_key=\"TGA\")\n",
    "\n",
    "# Check results, remove \";\".\n",
    "tga_readme_files.keys();"
   ]
  },
  {
   "cell_type": "code",
   "execution_count": null,
   "metadata": {},
   "outputs": [],
   "source": []
  },
  {
   "cell_type": "markdown",
   "metadata": {},
   "source": [
    "## Extract the Information on the TGA Experiments\n",
    "Now, the README files are parsed and the information on the TGA experiments is extracted."
   ]
  },
  {
   "cell_type": "code",
   "execution_count": null,
   "metadata": {},
   "outputs": [],
   "source": [
    "experiment_info = {\"TGA\": dict()}\n",
    "# experiment_info = dict()\n",
    "\n",
    "# for institute in tga_readme_files.keys():\n",
    "for institute in [\"UMET\"]:\n",
    "    # Get README file content.\n",
    "    readme_lines = tga_readme_files[institute]\n",
    "    \n",
    "    # Extract institute label and name.\n",
    "    institute_info = base_f.get_institute(readme_lines)\n",
    "    print(institute_info[0])\n",
    "    \n",
    "    # Extract the TGA experiment information.\n",
    "    experiment_lines = base_f.read_experiment_lines(readme_lines, \n",
    "                                                    start_marker_a=\"TGA\", \n",
    "                                                    start_marker_b=\"###\", \n",
    "                                                    end_marker=\"###\")\n",
    "    \n",
    "    # Extract test conditions summary table.\n",
    "    test_cond_df = base_f.read_test_condition_table(experiment_lines)\n",
    "    \n",
    "    institute_test_info = base_f.build_tga_dict(experiment_lines,\n",
    "                                                institute_name_info=institute_info,\n",
    "                                                exp_table_df=test_cond_df,\n",
    "                                                tga_base_dict=base_f.experiment_template[\"TGA_base\"],\n",
    "                                                material_path=pmma_path)\n",
    "    \n",
    "    experiment_info[\"TGA\"] = institute_test_info"
   ]
  },
  {
   "cell_type": "code",
   "execution_count": null,
   "metadata": {},
   "outputs": [],
   "source": [
    "experiment_info;"
   ]
  },
  {
   "cell_type": "code",
   "execution_count": null,
   "metadata": {},
   "outputs": [],
   "source": []
  },
  {
   "cell_type": "markdown",
   "metadata": {},
   "source": [
    "## Save Experiment Information Dictionary\n",
    "Now, the extracted information of the TGA experiments, that was stored in the dictionary, ist saved as a text file (Python). Thus, for further work, the dictionary can be imported from the Python file and the information in it is readily accessible. "
   ]
  },
  {
   "cell_type": "code",
   "execution_count": null,
   "metadata": {},
   "outputs": [],
   "source": [
    "# A text file \"ExperimentInformation.py\" is created and the content of\n",
    "# the dictionary is written to it.\n",
    "with open('ExperimentInformation.py','w', encoding='utf8') as exp_info_file:\n",
    "    exp_info_file.write(\"matl_db_info = \" + str(experiment_info))"
   ]
  },
  {
   "cell_type": "code",
   "execution_count": null,
   "metadata": {},
   "outputs": [],
   "source": [
    "# Demonstration as to how to read the dictionary again.\n",
    "\n",
    "# Import of the Python file.\n",
    "import ExperimentInformation as exp_info\n",
    "# Re-import base_functions script \n",
    "# (neccessary for changes to take effect without kernel restart).\n",
    "importlib.reload(exp_info)\n",
    "\n",
    "# Get path of a CSV file containing data series of a TGA experiment.\n",
    "file_name = exp_info.matl_db_info[\"TGA\"][\"UMET\"][\"UMET_TGA_N2_1\"][\"path\"]\n",
    "\n",
    "# Read file as a Pandas DataFrame and show the first five lines.\n",
    "pd.read_csv(os.path.join(mafp_matl_root, file_name)).head()"
   ]
  },
  {
   "cell_type": "code",
   "execution_count": null,
   "metadata": {},
   "outputs": [],
   "source": []
  },
  {
   "cell_type": "code",
   "execution_count": null,
   "metadata": {},
   "outputs": [],
   "source": []
  },
  {
   "cell_type": "code",
   "execution_count": null,
   "metadata": {},
   "outputs": [],
   "source": []
  },
  {
   "cell_type": "code",
   "execution_count": null,
   "metadata": {},
   "outputs": [],
   "source": []
  },
  {
   "cell_type": "code",
   "execution_count": null,
   "metadata": {},
   "outputs": [],
   "source": []
  },
  {
   "cell_type": "markdown",
   "metadata": {},
   "source": [
    "## Build README from Dictionary\n",
    "Here, an example is provided that README files can also be built from a dictionary.\n",
    "\n",
    "*Needs further development...*"
   ]
  },
  {
   "cell_type": "code",
   "execution_count": null,
   "metadata": {},
   "outputs": [],
   "source": []
  },
  {
   "cell_type": "code",
   "execution_count": null,
   "metadata": {},
   "outputs": [],
   "source": []
  },
  {
   "cell_type": "code",
   "execution_count": null,
   "metadata": {},
   "outputs": [],
   "source": []
  }
 ],
 "metadata": {
  "kernelspec": {
   "display_name": "Python 3",
   "language": "python",
   "name": "python3"
  },
  "language_info": {
   "codemirror_mode": {
    "name": "ipython",
    "version": 3
   },
   "file_extension": ".py",
   "mimetype": "text/x-python",
   "name": "python",
   "nbconvert_exporter": "python",
   "pygments_lexer": "ipython3",
   "version": "3.6.9"
  }
 },
 "nbformat": 4,
 "nbformat_minor": 4
}
